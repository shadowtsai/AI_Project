{
 "cells": [
  {
   "cell_type": "markdown",
   "metadata": {},
   "source": [
    "# 將PIXNET文章解壓縮"
   ]
  },
  {
   "cell_type": "code",
   "execution_count": null,
   "metadata": {
    "colab": {},
    "colab_type": "code",
    "id": "isFZQhxSU4jO"
   },
   "outputs": [],
   "source": [
    "import zipfile\n",
    "f = zipfile.ZipFile(\"./PIXNET_articles.zip\")\n",
    "f.extractall(\"./PIXNET_articles\")"
   ]
  },
  {
   "cell_type": "markdown",
   "metadata": {},
   "source": [
    "# 內容處理"
   ]
  },
  {
   "cell_type": "code",
   "execution_count": 0,
   "metadata": {
    "colab": {},
    "colab_type": "code",
    "id": "XoSK7lsISeVI"
   },
   "outputs": [],
   "source": [
    "import glob\n",
    "import os.path\n",
    "from os import path\n",
    "import pandas as pd\n",
    "import gzip\n",
    "import json\n",
    "from bs4 import BeautifulSoup\n",
    "\n",
    "ETLpath = \"./PIXNET_articles_ETL/\" \n",
    "num_count = 2000000 #預設2開頭七位數數值\n",
    "\n",
    "temp = 0\n",
    "files = glob.glob('./PIXNET_articles/*.json.gz')\n",
    "targets  = []\n",
    "contents = []\n",
    "for file in files:\n",
    "  with gzip.open(file, 'r') as zip_f:\n",
    "      for line in zip_f.readlines():\n",
    "          dic = json.loads(line) \n",
    "          targets.append(dic['site_category']) #取得site_category分類\n",
    "          \n",
    "          html = dic['content'] #取得content內容\n",
    "          bsObj = BeautifulSoup(html, \"html.parser\") #使用beautifulSoup使得content變成BeautifulSoup Object.\n",
    "          dic['content'] = bsObj.get_text() #去除HTML5標籤單純取得文字內容\n",
    "          contents.append(dic)\n",
    "        \n",
    "\n"
   ]
  },
  {
   "cell_type": "markdown",
   "metadata": {},
   "source": [
    "# 資料依照類別儲存"
   ]
  },
  {
   "cell_type": "code",
   "execution_count": null,
   "metadata": {},
   "outputs": [],
   "source": [
    "for i, target in enumerate(targets):\n",
    "    if(path.exists(ETLpath + target)):\n",
    "        num_count += 1\n",
    "        with open(ETLpath + target + '/' + str(num_count) + '.json', 'w',encoding='utf8') as jsonf:\n",
    "            jsonf.write(json.dumps(contents[i]))\n",
    "    else:\n",
    "        os.mkdir(ETLpath + target)\n",
    "        num_count += 1\n",
    "        with open(ETLpath + target + '/' + str(num_count) + '.json', 'w',encoding='utf8') as jsonf:\n",
    "            jsonf.write(json.dumps(contents[i]))"
   ]
  },
  {
   "cell_type": "code",
   "execution_count": 10,
   "metadata": {},
   "outputs": [
    {
     "name": "stdout",
     "output_type": "stream",
     "text": [
      "['前一篇文章對於審計新村裡的朵希義式冰品(DorthyGelato)所販售的冰品項目僅如蜻蜓點水般帶過，今天，我要來介紹其中三款獨家口味。●藍鹽淚在四月初，我吃到了新上市的「藍鹽淚」，這款冰品是朵希團隊新研發出來的祕密武器。配方不藏私，但黃金比例要保密，「藍鹽淚」採用了北海道乳酪+鮮奶+海鹽+蝶豆花，冰品呈現很夢幻的藍色。而「藍鹽淚」的命名依據是大家耳熟能詳的故事----《美人魚》。丹麥作家安徒生於西元1836年發表的童話作品《美人魚》獲得世人的喜愛，淒美的結局讓讀者陪著美人魚一起掉下傷心的眼淚。映著大海的藍及海水的鹽，而有了「藍鹽淚」之名。同場加映兒童英語繪本推薦~書名：FirstStories:TheLittleMermaid作者：DanTaylor原文出版社：CampbellBooksFirstStories這個系列的繪本我已收藏了將近十本，都是由經典的童話作品所改編，我喜歡它精美的繪圖、簡潔的語句、少量的頁數、簡單的推拉操作以及偏厚的紙質，很適合學齡前的幼兒閱讀，當然是親子共讀。書評及相關介紹很多網站及部落格都曾出現過，我就不再寫了。●微醺香草「微醺香草」是朵希販售的冰淇淋品項中最受普羅大眾喜愛的口味。據朵希團隊表示，關於這款，他們最常被問到的問題有兩個，其一是為何朵希推出的香草口味顏色偏黃？不同於市面上大家所看到的香草口味冰淇淋的顏色。其二是名為「微醺」，是否意味著此款冰淇淋帶有酒精濃度呢？據了解，「微醺香草」口味採用整個香草莢製作，除了香草以外，更加入了雞蛋，讓冰品口感更濃郁同時也更營養，也因為加入蛋黃，使冰淇淋的顏色偏黃了。至於「微醺」是因為加入了甜酒釀而使這款冰品帶有淡淡的酒香，但不含酒精濃度，大人小孩都可以開心享用。●烏龍綠烏龍綠是我個人最喜愛的口味，喜愛的程度超越抹茶。清爽解膩的烏龍綠特選臺灣茶種，一心二葉的嫩芽製成獨特的冰淇淋口味，將自然與人文的美好融合在淡淡的茶香中，可以感受到茶鄉的文化風情。可惜這款最近缺貨，不然，它可是我造訪朵希必點的口味呢！●手沖咖啡暫時停售朵希店內的手沖咖啡暫時停售，但是，如果是熟客登門，或許有機會再品嘗到手沖咖啡喔！青銀見學的郭媽媽手沖咖啡的功夫也是了得，我目睹過，但沒喝過，畢竟讓長輩沖咖啡給晚輩喝，心裡總是會有萬分的不好意思。●目前價格冰淇淋口味共有十幾種，但是架上最多呈現七種。飲品●營業資訊店址：台中市西區民生路368巷2弄7號1F(審計新村內)營業時間：11:00~19:00尖峰時間：例假日14:00~18:00●店外一隅']\n",
      "['美味食記']\n"
     ]
    }
   ],
   "source": [
    "import glob\n",
    "import os.path\n",
    "from os import path\n",
    "import pandas as pd\n",
    "import gzip\n",
    "import json\n",
    "from bs4 import BeautifulSoup\n",
    "import re\n",
    "\n",
    "ETLpath = \"./PIXNET_articles_ETL/\" \n",
    "num_count = 2000000 #預設2開頭七位數數值\n",
    "\n",
    "targets  = []\n",
    "contents = []\n",
    "regx_r = r\"\\[\\]\\●\" \n",
    "\n",
    "\n",
    "with gzip.open(\"./PIXNET_articles/part-00000-59250950-5a45-44d0-992d-c5fcd50ecebc-c000.json.gz\") as zip_f:\n",
    "    \n",
    "    for line in zip_f.readlines():\n",
    "        dic = json.loads(line)\n",
    "        targets.append(dic['site_category']) #取得site_category分類\n",
    "          \n",
    "        html = dic['content'] #取得content內容\n",
    "        bsObj = BeautifulSoup(html, \"html.parser\") #使用beautifulSoup使得content變成BeautifulSoup Object.\n",
    "        dic['content'] = bsObj.get_text() #去除HTML5標籤單純取得文字內容\n",
    "#         dic['content'] = dic['content'].replace('\\n','').replace('●','')\n",
    "        dic['content'] = \"\".join(dic['content'].split())\n",
    "        contents.append(dic['content'])\n",
    "        break\n",
    "\n",
    "print(contents)        \n",
    "\n",
    "print(targets)\n",
    "# if(path.exists(ETLpath + target)):\n",
    "#     f = csv.writer(open(ETLpath + target + \"test.csv\", \"wb+\"))\n",
    "# else:\n",
    "#     os.mkdir(ETLpath + target)\n",
    "#     f = csv.writer(open(ETLpath + target + \"test.csv\", \"wb+\"))     \n",
    "    \n",
    "# f.writerow([\"content\"])\n",
    "\n",
    "# for \n",
    "\n",
    "\n",
    "#         print(contents)"
   ]
  },
  {
   "cell_type": "code",
   "execution_count": 0,
   "metadata": {
    "colab": {},
    "colab_type": "code",
    "id": "UgN5SK6LjyR5"
   },
   "outputs": [],
   "source": [
    "import os\n",
    "!pwd\n",
    "!ls\n",
    "# !rm -r *.json\n",
    "# os.remove(\"/content/drive/My Drive/*.json\")"
   ]
  },
  {
   "cell_type": "code",
   "execution_count": 0,
   "metadata": {
    "colab": {},
    "colab_type": "code",
    "id": "cDWD0rfoAxoG"
   },
   "outputs": [],
   "source": []
  },
  {
   "cell_type": "code",
   "execution_count": 0,
   "metadata": {
    "colab": {},
    "colab_type": "code",
    "id": "PQi4M4UyW8pu"
   },
   "outputs": [],
   "source": []
  },
  {
   "cell_type": "code",
   "execution_count": 0,
   "metadata": {
    "colab": {},
    "colab_type": "code",
    "id": "HpbV_oxcSeVN"
   },
   "outputs": [],
   "source": []
  }
 ],
 "metadata": {
  "colab": {
   "collapsed_sections": [],
   "name": "etl.ipynb",
   "provenance": []
  },
  "kernelspec": {
   "display_name": "Python 3",
   "language": "python",
   "name": "python3"
  },
  "language_info": {
   "codemirror_mode": {
    "name": "ipython",
    "version": 3
   },
   "file_extension": ".py",
   "mimetype": "text/x-python",
   "name": "python",
   "nbconvert_exporter": "python",
   "pygments_lexer": "ipython3",
   "version": "3.7.7"
  }
 },
 "nbformat": 4,
 "nbformat_minor": 1
}
